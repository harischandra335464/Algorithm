{
  "nbformat": 4,
  "nbformat_minor": 0,
  "metadata": {
    "colab": {
      "provenance": [],
      "authorship_tag": "ABX9TyNmmjW1U3Mxq9kxwLUqZgRU",
      "include_colab_link": true
    },
    "kernelspec": {
      "name": "python3",
      "display_name": "Python 3"
    },
    "language_info": {
      "name": "python"
    }
  },
  "cells": [
    {
      "cell_type": "markdown",
      "metadata": {
        "id": "view-in-github",
        "colab_type": "text"
      },
      "source": [
        "<a href=\"https://colab.research.google.com/github/harischandra335464/Algorithm/blob/master/Assignment_python_basic.ipynb\" target=\"_parent\"><img src=\"https://colab.research.google.com/assets/colab-badge.svg\" alt=\"Open In Colab\"/></a>"
      ]
    },
    {
      "cell_type": "code",
      "execution_count": null,
      "metadata": {
        "id": "0AJ5eCiU2iJq"
      },
      "outputs": [],
      "source": [
        "# Q1. Using Python script as a calculator\n",
        "# Create the variables n, r, p and assign them values 10, 5, and 100 respectively. Then\n",
        "# evaluate the following expression in the Python console.\n",
        "\n",
        "n=10\n",
        "r=5\n",
        "p=100\n",
        "𝐴 = round(𝑝*(1 + 𝑟/100)**n,2)\n",
        "\n",
        "print(A)\n",
        "\n",
        "# Q2. In a given string format operation, how will you print the given string.\n",
        "A = 10\n",
        "B = 20\n",
        "Str = \"There are {} students in the class, with {} who play at least one sport.\"\n",
        "\n",
        "print(Str.format(B,A))\n",
        "\n",
        "\n",
        "\n",
        "# Q3. In a given sample string, How do you print a double quoted string in between a\n",
        "# regular\n",
        "# string using the escape character?\n",
        "# Sample output = It goes without saying, “Time is Money”, and none can deny it.\n",
        "# a. print(“It goes without saying, \\“Time is Money\\”, and none can deny it.”)\n",
        "# b. print(“It goes without saying, \\Time is Money\\, and none can deny it.”)\n",
        "# c. print(“It goes without saying” + “Time is Money” + “and none can deny it.”)\n",
        "# d. None of the above.\n",
        "\n",
        "# ans : a.\n",
        "print(\"It goes without saying, “Time is Money”, and none can deny it.\")\n",
        "\n",
        "\n",
        "\n",
        "\n",
        "# Q4. What will be the output of the following code?\n",
        "x = lambda a,b: a//b\n",
        "x(10,3)\n",
        "\n",
        "\n",
        "# ans : b. 3\n",
        "\n",
        "\n",
        "# Q5. What will be the output of the following code?\n",
        "A = 10\n",
        "B = 12\n",
        "print(\"Smaller\") if A == B else print(\"Greater\") if A < B else print(\"True\")\n",
        "\n",
        "# ans: C"
      ]
    },
    {
      "cell_type": "code",
      "source": [
        "# Q6. What will be the output of the following code?\n",
        "import numpy as np\n",
        "\n",
        "# Define a list\n",
        "my_list = [1, 2, 3, 4, 5]\n",
        "\n",
        "# Create a numpy array from the list with dtype int\n",
        "arr1 = numpy.array(my_list, dtype=int)\n",
        "\n",
        "print(arr1)\n",
        "\n",
        "\n",
        "# Ans: c. NameError: name 'numpy' is not defined"
      ],
      "metadata": {
        "colab": {
          "base_uri": "https://localhost:8080/"
        },
        "id": "e4L1fEQE2578",
        "outputId": "77113fcb-96d1-458d-ea7d-26121c9f1fa7"
      },
      "execution_count": null,
      "outputs": [
        {
          "output_type": "stream",
          "name": "stdout",
          "text": [
            "[1 2 3 4 5]\n"
          ]
        }
      ]
    },
    {
      "cell_type": "code",
      "source": [
        "# Q7. Create a string called ‘string’ with the value as “Machine Learning”. Which code(s)\n",
        "# is/are appropriate to slice the substring “Learn”?\n",
        "\n",
        "\n",
        "string = \"Machine Learning\"\n",
        "print(string[slice(8,13,1)])\n",
        "\n",
        "# Ans : d. string[slice(8,13,1)]"
      ],
      "metadata": {
        "colab": {
          "base_uri": "https://localhost:8080/"
        },
        "id": "3Ki5jfPp27GS",
        "outputId": "552a5367-b821-4e81-89af-a52e36e9c20b"
      },
      "execution_count": null,
      "outputs": [
        {
          "output_type": "stream",
          "name": "stdout",
          "text": [
            "Learn\n"
          ]
        }
      ]
    },
    {
      "cell_type": "code",
      "source": [
        "# Q8. Create a sequence of numbers from 10 to 25 and increment by 4. What is the index\n",
        "# of the\n",
        "# value 18?\n",
        "\n",
        "seq = np.arange(10,26,4)\n",
        "seq.index(18)"
      ],
      "metadata": {
        "colab": {
          "base_uri": "https://localhost:8080/",
          "height": 180
        },
        "id": "1Oqo4Mqr3zSQ",
        "outputId": "b94e55bb-a24f-4bef-b5ac-55111bb11cba"
      },
      "execution_count": null,
      "outputs": [
        {
          "output_type": "error",
          "ename": "AttributeError",
          "evalue": "'numpy.ndarray' object has no attribute 'index'",
          "traceback": [
            "\u001b[0;31m---------------------------------------------------------------------------\u001b[0m",
            "\u001b[0;31mAttributeError\u001b[0m                            Traceback (most recent call last)",
            "\u001b[0;32m<ipython-input-19-c27cd54847ab>\u001b[0m in \u001b[0;36m<cell line: 6>\u001b[0;34m()\u001b[0m\n\u001b[1;32m      4\u001b[0m \u001b[0;34m\u001b[0m\u001b[0m\n\u001b[1;32m      5\u001b[0m \u001b[0mseq\u001b[0m \u001b[0;34m=\u001b[0m \u001b[0mnp\u001b[0m\u001b[0;34m.\u001b[0m\u001b[0marange\u001b[0m\u001b[0;34m(\u001b[0m\u001b[0;36m10\u001b[0m\u001b[0;34m,\u001b[0m\u001b[0;36m26\u001b[0m\u001b[0;34m,\u001b[0m\u001b[0;36m4\u001b[0m\u001b[0;34m)\u001b[0m\u001b[0;34m\u001b[0m\u001b[0;34m\u001b[0m\u001b[0m\n\u001b[0;32m----> 6\u001b[0;31m \u001b[0mseq\u001b[0m\u001b[0;34m.\u001b[0m\u001b[0mindex\u001b[0m\u001b[0;34m(\u001b[0m\u001b[0;36m18\u001b[0m\u001b[0;34m)\u001b[0m\u001b[0;34m\u001b[0m\u001b[0;34m\u001b[0m\u001b[0m\n\u001b[0m",
            "\u001b[0;31mAttributeError\u001b[0m: 'numpy.ndarray' object has no attribute 'index'"
          ]
        }
      ]
    },
    {
      "cell_type": "code",
      "source": [],
      "metadata": {
        "id": "6Il_fROT4wpU"
      },
      "execution_count": null,
      "outputs": []
    }
  ]
}